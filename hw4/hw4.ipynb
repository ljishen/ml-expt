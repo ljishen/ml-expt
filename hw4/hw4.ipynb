{
 "cells": [
  {
   "cell_type": "markdown",
   "metadata": {},
   "source": [
    "# Homework 4"
   ]
  },
  {
   "cell_type": "markdown",
   "metadata": {},
   "source": [
    "## Question 1"
   ]
  },
  {
   "cell_type": "markdown",
   "metadata": {},
   "source": [
    "#### For this assignment generate the training dataset as follows: draw 1000 points from the 2-d Gaussian distribution with $ \\mu_{+}=(1,1) $, $ \\Sigma_{+}=\\begin{bmatrix}1 & 0 \\\\0 & 1 \\end{bmatrix} $ and label them as +1. Similarly, draw another 1000 points from the 2-d Gaussian distribution with $ \\mu_{-}=(-1,-1) $, $ \\Sigma_{+}=\\begin{bmatrix}3 & 0 \\\\0 & 3 \\end{bmatrix} $ and label them as -1. From the same distributions as above draw 500 points from each class for the test dataset.\n",
    "\n",
    "- ** Download and install LibSVM from http://www.csie.ntu.edu.tw/~cjlin/libsvm/. **\n",
    "- ** Set $ C = 1 $ and train Support Vector Machines (SVM) with Gaussian Kernels whose kernel widths are given by $ \\gamma=\\{1,10,100,1000\\} $ **\n",
    "- ** Plot the decision boundary for each value of $ \\gamma $. Also report the test accuracy. Comment on what you observe. **\n",
    "- ** Fix $ \\gamma = 10 $ and let $ C \\in \\{1, 10, 100, 1000\\} $. As before plot the decision boundary and report the test accuracy. What do you observe? **"
   ]
  },
  {
   "cell_type": "code",
   "execution_count": 5,
   "metadata": {
    "collapsed": false
   },
   "outputs": [
    {
     "data": {
      "text/plain": [
       "array([[ 0.19361759,  0.36844932],\n",
       "       [-0.09338105,  1.32614647]])"
      ]
     },
     "execution_count": 5,
     "metadata": {},
     "output_type": "execute_result"
    }
   ],
   "source": [
    "import numpy as np\n",
    "\n",
    "mean_plus = np.array([1, 1])\n",
    "mean_minus = np.array([-1, -1])\n",
    "\n",
    "variance_plus = np.array([[1, 0], [0, 1]])\n",
    "variance_minus = np.array([[3, 0], [0, 3]])\n",
    "\n",
    "# Generate points\n",
    "xn_plus_train = np.random.multivariate_normal(mean_plus, variance_plus, 1000)\n",
    "xn_minus_train = np.random.multivariate_normal(mean_minus, variance_minus, 1000)\n",
    "\n",
    "xn_plus_test = np.random.multivariate_normal(mean_plus, variance_plus, 500)\n",
    "xn_minus_test = np.random.multivariate_normal(mean_minus, variance_minus, 500)\n",
    "\n"
   ]
  },
  {
   "cell_type": "markdown",
   "metadata": {},
   "source": [
    "## Question 2"
   ]
  },
  {
   "cell_type": "markdown",
   "metadata": {},
   "source": [
    "#### Consider a dataset $ \\{\\left(\\textbf{x}_{n}, t_{n}\\right)\\} $ for $ n=1,...,N $, where $ \\textbf{x}_{n} \\in \\mathbb{R}^{D} $. For each of the statements below, answer either True or False. In either case justify your answer for full credit. In some cases, the answer can be neither True nor False.\n",
    "\n",
    "- ** In the case of the linear SVM, it is always preferable to solve the Primal optimization problem. **\n",
    "- ** If $ N \u001d",
    "\\gg D $ then it is preferable to solve the Linear SVM problem in the dual. **\n",
    "- ** If we use the feature map \u001e",
    "$ \\phi\\left(\\textbf{x}\\right)=\\begin{bmatrix}\\textbf{x} \\\\\\textbf{x}^{2} \\end{bmatrix} $, where $ \\textbf{x}^{2} $ is a vector given by squaring every entry of $ \\textbf{x} $, then the primal is a $ 2D $ dimensional optimization problem. **\n",
    "- ** In the above case, the dual is a $ 2N $ dimensional optimization problem. **"
   ]
  },
  {
   "cell_type": "code",
   "execution_count": null,
   "metadata": {
    "collapsed": true
   },
   "outputs": [],
   "source": []
  },
  {
   "cell_type": "markdown",
   "metadata": {},
   "source": [
    "## Question 3"
   ]
  },
  {
   "cell_type": "markdown",
   "metadata": {},
   "source": [
    "#### For each of the datasets below, indicate if one should use a CRF for classification. Justify your answer\n",
    "\n",
    "- ** Scanned OCR digits, where the task is to predict the label $ \\in \\{0,...,9\\} $ **\n",
    "- ** Stock price of AMZN, where the task is to predict the value of the stock in the future **\n",
    "- ** The set of movies that a user has watched, where the task is to predict the next movie that the user is going to watch **\n",
    "- ** News articles from NYTimes, where the task is to predict if a word is a proper noun. **"
   ]
  },
  {
   "cell_type": "code",
   "execution_count": null,
   "metadata": {
    "collapsed": true
   },
   "outputs": [],
   "source": []
  },
  {
   "cell_type": "markdown",
   "metadata": {},
   "source": [
    "## Question 4"
   ]
  },
  {
   "cell_type": "markdown",
   "metadata": {},
   "source": [
    "#### Consider a Hidden Markov Model where the the hidden state $ y $ takes on two values namely 1 and 2, with the corresponding state transition matrix given by $ M = \\begin{bmatrix}0.3 & 0.7 \\\\0.1 & 0.9 \\end{bmatrix} $. Moreover, let the observed state $ x $ take on values 0 or 1. The emission probabilities are given by \n",
    "$$ p\\left(x=0|y=1\\right)=0.1 $$ $$ p\\left(x=1|y=1\\right)=0.9 $$\n",
    "$$ p\\left(x=0|y=1\\right)=0.5 $$ $$ p\\left(x=1|y=1\\right)=0.5 $$\n",
    "\n",
    "#### Use the forward-backward algorithm to compute the probability of observing the sequence 0101. You may assume that at the beginning both the hidden states have equal probability."
   ]
  }
 ],
 "metadata": {
  "kernelspec": {
   "display_name": "Python 3",
   "language": "python",
   "name": "python3"
  },
  "language_info": {
   "codemirror_mode": {
    "name": "ipython",
    "version": 3
   },
   "file_extension": ".py",
   "mimetype": "text/x-python",
   "name": "python",
   "nbconvert_exporter": "python",
   "pygments_lexer": "ipython3",
   "version": "3.5.2"
  }
 },
 "nbformat": 4,
 "nbformat_minor": 1
}
