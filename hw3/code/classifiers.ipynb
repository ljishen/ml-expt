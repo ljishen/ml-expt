{
 "cells": [
  {
   "cell_type": "markdown",
   "metadata": {},
   "source": [
    "# Homework 3"
   ]
  },
  {
   "cell_type": "markdown",
   "metadata": {},
   "source": [
    "## Question 1"
   ]
  },
  {
   "cell_type": "markdown",
   "metadata": {},
   "source": [
    "#### Consider the following table which details the use of contraception by age of currently married women in El Salvador in 1985.\n",
    "\n",
    "<table>\n",
    "  <tr>\n",
    "    <th></th>\n",
    "    <th colspan=\"3\">Contraceptive Method</th>\n",
    "  </tr>\n",
    "  <tr>\n",
    "    <td><b>Age</b></td>\n",
    "    <td><b>Ster.</b></td>\n",
    "    <td><b>Other</b></td>\n",
    "    <td><b>None</b></td>\n",
    "  </tr>\n",
    "  <tr>\n",
    "    <td>15 - 19</td>\n",
    "    <td>3</td>\n",
    "    <td>61</td>\n",
    "    <td>232</td>\n",
    "  </tr>\n",
    "  <tr>\n",
    "    <td>20 - 24</td>\n",
    "    <td>80</td>\n",
    "    <td>137</td>\n",
    "    <td>400</td>\n",
    "  </tr>\n",
    "  <tr>\n",
    "    <td>25 - 29</td>\n",
    "    <td>216</td>\n",
    "    <td>131</td>\n",
    "    <td>301</td>\n",
    "  </tr>\n",
    "  <tr>\n",
    "    <td>30 - 34</td>\n",
    "    <td>268</td>\n",
    "    <td>76</td>\n",
    "    <td>203</td>\n",
    "  </tr>\n",
    "  <tr>\n",
    "    <td>35 - 39</td>\n",
    "    <td>197</td>\n",
    "    <td>50</td>\n",
    "    <td>188</td>\n",
    "  </tr>\n",
    "  <tr>\n",
    "    <td>40 - 44</td>\n",
    "    <td>150</td>\n",
    "    <td>24</td>\n",
    "    <td>164</td>\n",
    "  </tr>\n",
    "  <tr>\n",
    "    <td>45 - 49</td>\n",
    "    <td>91</td>\n",
    "    <td>10</td>\n",
    "    <td>183</td>\n",
    "  </tr>\n",
    "</table>\n",
    "\n",
    "#### Let $ t_{i} $ denote an indicator variable which takes on values $ \\{1,2,3\\} $ where 1 is Sterilization, 2 is Other, and 3 is None. Consider the activation function:\n",
    "\n",
    "$$ a_{ij}=\\alpha_{j}+\\beta_{j}x_{i}+\\gamma_{j}x_{i}^{2} $$\n",
    "\n",
    "#### where $ x_{i} $ is the mid-point of the $ i $-th age group, and $ j \\in \\{1,2,3\\} $. Recall that the multinomial logit model is given by\n",
    "\n",
    "$$ p\\left(t_{i}=j|x_{i}\\right)=\\frac{exp\\left(a_{ij}\\right)}{\\sum_{j'}exp\\left(a_{ij'}\\right)} $$\n",
    "\n",
    "#### Implement multinomial logistic regression from scratch (for the underlying optimization you may use modules such as the ones available in $ \\displaystyle{scipy} $) and apply it to the given data. Comment on your observations."
   ]
  },
  {
   "cell_type": "code",
   "execution_count": 145,
   "metadata": {
    "collapsed": false,
    "scrolled": false
   },
   "outputs": [
    {
     "name": "stdout",
     "output_type": "stream",
     "text": [
      "Optimization terminated successfully.\n",
      "         Current function value: 4962.658655\n",
      "         Iterations: 1\n",
      "         Function evaluations: 2\n",
      "         Gradient evaluations: 2\n",
      "         Hessian evaluations: 1\n",
      "     fun: 4962.658655031928\n",
      "     jac: array([ -2.06262218e+01,   6.15506631e+00,  -3.66748822e+02,\n",
      "         2.57478145e+02,  -2.26296577e+03,   9.85941062e+03])\n",
      " message: 'Optimization terminated successfully.'\n",
      "    nfev: 2\n",
      "    nhev: 1\n",
      "     nit: 1\n",
      "    njev: 2\n",
      "  status: 0\n",
      " success: True\n",
      "       x: array([ -1.26199999e+01,  -4.55200001e+00,   7.09701172e-01,\n",
      "         2.64099308e-01,  -9.73534194e-03,  -4.78596090e-03])\n"
     ]
    }
   ],
   "source": [
    "from scipy import optimize\n",
    "import numpy as np\n",
    "\n",
    "x = [17, 22, 27, 32, 37, 42, 47]\n",
    "\n",
    "y = np.matrix([[  3,  62, 232],\n",
    "               [ 80, 137, 400],\n",
    "               [216, 131, 301],\n",
    "               [268,  76, 203],\n",
    "               [197,  50, 188],\n",
    "               [150,  24, 164],\n",
    "               [ 91,  10, 183]])\n",
    "\n",
    "def xik(i, k):\n",
    "    return x[i - 1]**k\n",
    "\n",
    "def betakj(beta, k, j):\n",
    "    beta_m = np.matrix(beta.reshape((3, 2)))\n",
    "    return beta_m[k, j - 1]\n",
    "\n",
    "def aij(beta, i, j):\n",
    "    sm = 0\n",
    "    for k in range(3):\n",
    "        sm += xik(i, k) * betakj(beta, k, j)\n",
    "    return np.longfloat(sm)\n",
    "\n",
    "def yij(i, j):\n",
    "    return y[i - 1, j - 1]\n",
    "\n",
    "def ni(i):\n",
    "    return y.sum(axis=1)[i - 1, 0]\n",
    "\n",
    "def dpii(beta, i):\n",
    "    sm = 0\n",
    "    for j in range(1, 3):\n",
    "        sm += np.exp(aij(beta, i, j))\n",
    "    return 1 + sm\n",
    "\n",
    "def likelihood(beta):\n",
    "    sm = 0\n",
    "    for i in range(1, 8):\n",
    "        pii = ni(i) * np.log(dpii(beta, i))\n",
    "        \n",
    "        for j in range(1, 3):\n",
    "            sm += yij(i, j) * aij(beta, i, j) - pii\n",
    "\n",
    "    return sm\n",
    "\n",
    "def neg_likelihood(beta):\n",
    "    return -1.0 * likelihood(beta)\n",
    "    \n",
    "def gradient(beta, k, j):\n",
    "    sm = 0\n",
    "    for i in range(1, 8):\n",
    "        sm += yij(i, j) * xik(i, k) - ni(i) * (np.exp(aij(beta, i, j)) / dpii(beta, i)) * xik(i, k)\n",
    "    return -sm\n",
    "\n",
    "def neg_likelihood_der(beta):\n",
    "    der = np.zeros_like(beta)\n",
    "    idx = 0\n",
    "    for k in range(3):\n",
    "        for j in range(1, 3):\n",
    "            der[idx] = gradient(beta, k, j)\n",
    "            idx += 1\n",
    "    return der\n",
    "\n",
    "def piij(beta, i, j):\n",
    "    return np.exp(aij(beta, i, j)) / dpii(beta, i)\n",
    "\n",
    "def hess(beta, k, j, kk, jj):\n",
    "    sm = 0\n",
    "    for i in range(1, 8):\n",
    "        c_piij = piij(beta, i, j)\n",
    "        if jj == j:\n",
    "            diff = 1 - c_piij\n",
    "        else:\n",
    "            diff = - piij(beta, i, jj)\n",
    "        sm += ni(i) * xik(i, k) * c_piij * diff * xik(i, kk)\n",
    "    return sm\n",
    "\n",
    "def neg_likelihood_hess(beta):\n",
    "    H = np.zeros((6, 6))\n",
    "    idx = 0\n",
    "    jdx = 0\n",
    "    for k in range(3):\n",
    "        for j in range(1, 3):\n",
    "            for kk in range(3):\n",
    "                for jj in range(1, 3):\n",
    "                    H[idx, jdx] = hess(beta, k, j, kk, jj)\n",
    "                    \n",
    "                    if jdx == 5:\n",
    "                        jdx = 0\n",
    "                        idx += 1\n",
    "                    else:\n",
    "                        jdx += 1\n",
    "    return H\n",
    "                    \n",
    "\n",
    "beta0 = np.array([-12.62, -4.552, 0.7097, 0.2641, -0.009733, -0.004758])\n",
    "# res = optimize.minimize(neg_likelihood, beta0, method='Powell')\n",
    "# res = optimize.fmin_tnc(neg_likelihood, beta0, approx_grad=True)\n",
    "\n",
    "res = optimize.minimize(neg_likelihood, beta0, method='Newton-CG',\n",
    "                        jac=neg_likelihood_der, hess=neg_likelihood_hess,\n",
    "                        options={'eps': 1, 'xtol': 1e-5, 'disp': True})\n",
    "print(res)"
   ]
  },
  {
   "cell_type": "markdown",
   "metadata": {},
   "source": [
    "Now we try to show the $ p\\left(t_{i}=j|x_{i}\\right) $ for each category of each age group."
   ]
  },
  {
   "cell_type": "code",
   "execution_count": 146,
   "metadata": {
    "collapsed": false
   },
   "outputs": [
    {
     "name": "stdout",
     "output_type": "stream",
     "text": [
      "1-th age group, 1 category -> 0.0271149154252\n",
      "1-th age group, 2 category -> 0.185531241143\n",
      "1-th age group, 3 category -> 0.787353843432\n",
      "2-th age group, 1 category -> 0.117490335238\n",
      "2-th age group, 2 category -> 0.227378352767\n",
      "2-th age group, 3 category -> 0.655131311994\n",
      "3-th age group, 1 category -> 0.290424222167\n",
      "3-th age group, 2 category -> 0.203606870521\n",
      "3-th age group, 3 category -> 0.505968907312\n",
      "4-th age group, 1 category -> 0.452302533627\n",
      "4-th age group, 2 category -> 0.147121342444\n",
      "4-th age group, 3 category -> 0.400576123929\n",
      "5-th age group, 1 category -> 0.51926132446\n",
      "5-th age group, 2 category -> 0.100367739664\n",
      "5-th age group, 3 category -> 0.380370935876\n",
      "6-th age group, 1 category -> 0.468843836967\n",
      "6-th age group, 2 category -> 0.0689719223515\n",
      "6-th age group, 3 category -> 0.462184240681\n",
      "7-th age group, 1 category -> 0.302855447184\n",
      "7-th age group, 2 category -> 0.0434300074912\n",
      "7-th age group, 3 category -> 0.653714545325\n"
     ]
    }
   ],
   "source": [
    "beta_ml = np.array([-1.26199999e+01,  -4.55200001e+00,   7.09701172e-01,\n",
    "         2.64099308e-01,  -9.73534194e-03,  -4.78596090e-03])\n",
    "\n",
    "for i in range(1, 8):\n",
    "    prob = {}\n",
    "    for j in range(1, 3):\n",
    "        prob[j] = piij(beta_ml, i, j)\n",
    "    prob[3] = 1- prob[1] - prob[2]\n",
    "    \n",
    "    for j in range(1, 4):\n",
    "        print(str(i) + \"-th age group, \" + str(j) + \" category -> \" + str(prob[j]))"
   ]
  },
  {
   "cell_type": "code",
   "execution_count": 147,
   "metadata": {
    "collapsed": false
   },
   "outputs": [
    {
     "data": {
      "text/plain": [
       "<matplotlib.legend.Legend at 0x7f6341dce438>"
      ]
     },
     "execution_count": 147,
     "metadata": {},
     "output_type": "execute_result"
    },
    {
     "data": {
      "image/png": "[encoded data removed]",
      "text/plain": [
       "<matplotlib.figure.Figure at 0x7f6341e02390>"
      ]
     },
     "metadata": {},
     "output_type": "display_data"
    }
   ],
   "source": [
    "import matplotlib.pyplot as plt\n",
    "\n",
    "odds_ster = []\n",
    "odds_other = []\n",
    "logit_ster = []\n",
    "logit_other = []\n",
    "\n",
    "for i in range(1, 8):\n",
    "    odds_ster.append(np.log(y[i - 1, 0] * 1.0 / y[i - 1, 2]))\n",
    "    odds_other.append(np.log(y[i - 1, 1] * 1.0 / y[i - 1, 2]))\n",
    "    \n",
    "    logit_ster.append(aij(beta_ml, i, 1))\n",
    "    logit_other.append(aij(beta_ml, i, 2))\n",
    "    \n",
    "\n",
    "plt.plot(x, odds_ster, 'ro', color='red', label=r'$\\log(\\frac{ster}{none})$')\n",
    "plt.plot(x, other_ster, 'bs', color='blue', label=r'$\\log(\\frac{other}{none})$')\n",
    "plt.plot(x, logit_ster, color='red', label=r'$a_{i1}$')\n",
    "plt.plot(x, logit_other, color='blue', label=r'$a_{i2}$')\n",
    "\n",
    "plt.xlabel('age')\n",
    "plt.ylabel('logit')\n",
    "\n",
    "plt.legend(loc='center', bbox_to_anchor=(1.3, 0.5))"
   ]
  },
  {
   "cell_type": "markdown",
   "metadata": {},
   "source": [
    "## Question 2"
   ]
  },
  {
   "cell_type": "markdown",
   "metadata": {},
   "source": [
    "#### Download the Enron-spam dataset from http://www.aueb.gr/users/ion/data/enron-spam/. Use the pre-processed datasets Enron1, . . . , Enron5 as training data and Enron6 as test data."
   ]
  },
  {
   "cell_type": "markdown",
   "metadata": {},
   "source": [
    "**Implement the Naive Bayes algorithm that we discussed in the class (a good in-depth reference is http://nlp.stanford.edu/IR-book/pdf/13bayes.pdf). Remember to perform all calculations on the log scale to prevent underow.**"
   ]
  },
  {
   "cell_type": "markdown",
   "metadata": {},
   "source": [
    "- ** Report the accuracy on the test set.**"
   ]
  },
  {
   "cell_type": "markdown",
   "metadata": {},
   "source": [
    "- **How do you account for di\u000b",
    "erent prior probabilities for spam and ham?**"
   ]
  },
  {
   "cell_type": "markdown",
   "metadata": {},
   "source": [
    "- **Does the performance of the classi\f",
    "er change when you do add one Laplace smoothing?**"
   ]
  },
  {
   "cell_type": "markdown",
   "metadata": {},
   "source": [
    "- **What are the most discriminative words as per the naive Bayes classifer?**"
   ]
  },
  {
   "cell_type": "markdown",
   "metadata": {},
   "source": [
    "We first extract all messages from archives."
   ]
  },
  {
   "cell_type": "code",
   "execution_count": 149,
   "metadata": {
    "collapsed": true
   },
   "outputs": [],
   "source": [
    "import tarfile\n",
    "import glob\n",
    "\n",
    "WORKDIR = 'workdir'"
   ]
  },
  {
   "cell_type": "code",
   "execution_count": 150,
   "metadata": {
    "collapsed": false
   },
   "outputs": [
    {
     "name": "stdout",
     "output_type": "stream",
     "text": [
      "Extracting Enron-Spam/enron6.tar.gz\n",
      "Extracting Enron-Spam/enron5.tar.gz\n",
      "Extracting Enron-Spam/enron2.tar.gz\n",
      "Extracting Enron-Spam/enron1.tar.gz\n",
      "Extracting Enron-Spam/enron4.tar.gz\n",
      "Extracting Enron-Spam/enron3.tar.gz\n"
     ]
    }
   ],
   "source": [
    "def msg_dir(members):\n",
    "    for tarinfo in members:\n",
    "        if (tarinfo.name.count('/') > 1):\n",
    "            yield tarinfo\n",
    "\n",
    "for file in glob.glob(\"Enron-Spam/*.tar.gz\"):\n",
    "    print(\"Extracting \" + file)\n",
    "    with tarfile.open(file, 'r:gz') as tar:\n",
    "        tar.extractall(path=WORKDIR, members=msg_dir(tar))"
   ]
  },
  {
   "cell_type": "markdown",
   "metadata": {},
   "source": [
    "Then, start to train the Naive Bayes classifier."
   ]
  },
  {
   "cell_type": "markdown",
   "metadata": {},
   "source": [
    "> 1) Define a function which strip meaningless words, which includes punctuation mark and stopwords. We get the \"Default English stopwords\" from http://www.ranks.nl/stopwords"
   ]
  },
  {
   "cell_type": "code",
   "execution_count": 151,
   "metadata": {
    "collapsed": false
   },
   "outputs": [],
   "source": [
    "from string import punctuation\n",
    "import re\n",
    "\n",
    "punc_regex = re.compile('[%s]' % re.escape(punctuation.replace(\"'\", \"\")))\n",
    "apos_regex = re.compile('(\\w)\\s\\'\\s(\\w)')\n",
    "\n",
    "STOPWORDS_FILENAME = 'stopwords.txt'\n",
    "with open(STOPWORDS_FILENAME, 'r') as f:\n",
    "    stopwords = set(f.read().splitlines())\n",
    "\n",
    "# strip meaningless words from a string and return a\n",
    "# meaningful list of words.\n",
    "def strip_meaningless(s):\n",
    "    # replace any punctuation marks but the apostrophe with space\n",
    "    clean_s = punc_regex.sub(' ', s)\n",
    "    \n",
    "    # format case \"what ' s\" to \"what's\" in order to capture the stopwrods like \"that's\"\n",
    "    clean_s = apos_regex.sub('\\\\1\\'\\\\2', clean_s)\n",
    "    \n",
    "    c_l = [word.lower() for word in clean_s.split()]\n",
    "    return [word for word in c_l if word not in stopwords]"
   ]
  },
  {
   "cell_type": "markdown",
   "metadata": {},
   "source": [
    ">  2) Extract all vocabulary and count the number of message in class ham and spam, respectively, in this round."
   ]
  },
  {
   "cell_type": "code",
   "execution_count": 152,
   "metadata": {
    "collapsed": false
   },
   "outputs": [],
   "source": [
    "num_hams = 0\n",
    "num_spams = 0\n",
    "\n",
    "words_ham = []\n",
    "words_spam = []\n",
    "\n",
    "FILE_ENCODING = 'ISO-8859-1'\n",
    "\n",
    "# As the question mentioned, use the pre-processed datasets\n",
    "# Enron1, ..., Enron5 as training data and Enron6 as test data.\n",
    "for file in glob.glob(WORKDIR + '/enron[1-5]/*/*.txt'):\n",
    "    is_ham = file.endswith('ham.txt')\n",
    "    if is_ham:\n",
    "        num_hams += 1\n",
    "    else:\n",
    "        num_spams += 1\n",
    "\n",
    "    with open(file, 'r', encoding=FILE_ENCODING) as f_msg:\n",
    "        content = strip_meaningless(f_msg.read())\n",
    "        \n",
    "        if is_ham:\n",
    "            words_ham.extend(content)\n",
    "        else:\n",
    "            words_spam.extend(content)\n",
    "\n",
    "vocabulary = set(words_ham + words_spam)\n",
    "vocabulary.remove(\"'\")    # we think the apostrophe should not be one of word in vocabulary"
   ]
  },
  {
   "cell_type": "markdown",
   "metadata": {},
   "source": [
    "> Save all the vocabulary to vocabulary.txt if you want to have a look."
   ]
  },
  {
   "cell_type": "code",
   "execution_count": 153,
   "metadata": {
    "collapsed": true
   },
   "outputs": [],
   "source": [
    "with open('out/vocabulary.txt', mode='w', encoding=FILE_ENCODING) as voc_file:\n",
    "    voc_file.write('\\n'.join(vocabulary))"
   ]
  },
  {
   "cell_type": "markdown",
   "metadata": {},
   "source": [
    "> 3) Compute $ \\hat{P}\\left(c\\right) $ and all $ \\hat{P}\\left(t_{k}|c\\right) $"
   ]
  },
  {
   "cell_type": "code",
   "execution_count": 154,
   "metadata": {
    "collapsed": false
   },
   "outputs": [
    {
     "name": "stdout",
     "output_type": "stream",
     "text": [
      "Prior probabilities for ham: 0.5428272477991052\n",
      "Prior probabilities for spam: 0.4571727522008948\n",
      "The most discriminative words in condprob_ham: ('enron', 0.016913688602462673)\n",
      "The most discriminative words in condprob_spam: ('subject', 0.007590890505477282)\n"
     ]
    }
   ],
   "source": [
    "import operator\n",
    "\n",
    "prior_ham = num_hams * 1.0 / (num_hams + num_spams)\n",
    "prior_spam = num_spams * 1.0 / (num_hams + num_spams)\n",
    "\n",
    "print(\"Prior probabilities for ham: \" + str(prior_ham))\n",
    "print(\"Prior probabilities for spam: \" + str(prior_spam))\n",
    "\n",
    "words_ham_count = {}\n",
    "for word in words_ham:\n",
    "    if word in words_ham_count:\n",
    "        words_ham_count[word] += 1\n",
    "    else:\n",
    "        words_ham_count[word] = 1\n",
    "\n",
    "words_spam_count = {}\n",
    "for word in words_spam:\n",
    "    if word in words_spam_count:\n",
    "        words_spam_count[word] += 1\n",
    "    else:\n",
    "        words_spam_count[word] = 1\n",
    "\n",
    "condprob_ham = {}\n",
    "condprob_spam = {}\n",
    "\n",
    "for word in vocabulary:\n",
    "    condprob_ham[word] = (words_ham_count.get(word, 0) + 1) * 1.0 / (len(words_ham) + len(vocabulary))\n",
    "    condprob_spam[word] = (words_spam_count.get(word, 0) + 1) * 1.0 / (len(words_spam) + len(vocabulary))\n",
    "    \n",
    "    # without Laplace smoothing\n",
    "#     condprob_ham[word] = words_ham_count.get(word, 0) * 1.0 / len(words_ham)\n",
    "#     condprob_spam[word] = words_spam_count.get(word, 0) * 1.0 / len(words_spam)\n",
    "\n",
    "# sort condprob_ham and condprob_spam by values\n",
    "sorted_condprob_ham = sorted(condprob_ham.items(), key=operator.itemgetter(1))\n",
    "sorted_condprob_spam = sorted(condprob_spam.items(), key=operator.itemgetter(1))\n",
    "\n",
    "print(\"The most discriminative words in condprob_ham: \" + str(sorted_condprob_ham[-1]))\n",
    "print(\"The most discriminative words in condprob_spam: \" + str(sorted_condprob_spam[-1]))"
   ]
  },
  {
   "cell_type": "markdown",
   "metadata": {},
   "source": [
    "> 4) Now we can apply this Naive Bayes classifier to do prediction."
   ]
  },
  {
   "cell_type": "code",
   "execution_count": 164,
   "metadata": {
    "collapsed": false
   },
   "outputs": [
    {
     "name": "stdout",
     "output_type": "stream",
     "text": [
      "The accuracy on the test set is: 0.9818333333333333\n"
     ]
    }
   ],
   "source": [
    "import numpy as np\n",
    "\n",
    "corrects  = 0\n",
    "num_test_msgs = 0\n",
    "\n",
    "most_disc_of_file = {}\n",
    "\n",
    "for file in glob.glob(WORKDIR + '/enron6/*/*.txt'):\n",
    "    is_true_ham = file.endswith('ham.txt')\n",
    "    \n",
    "    most_disc = ('', '', 0)\n",
    "    \n",
    "    with open(file, 'r', encoding=FILE_ENCODING) as f_msg:\n",
    "        content = strip_meaningless(f_msg.read())\n",
    "        \n",
    "        score_ham = np.log(prior_ham)\n",
    "        score_spam = np.log(prior_spam)\n",
    "        for word in content:\n",
    "            if word in vocabulary:    # ignore word if it's not in the vocabulary\n",
    "                prob_in_ham = condprob_ham[word]\n",
    "                prob_in_spam = condprob_spam[word]\n",
    "                \n",
    "                if prob_in_ham >= most_disc[2]:\n",
    "                    most_disc = (word, 'ham', prob_in_ham)\n",
    "                \n",
    "                if prob_in_spam >= most_disc[2]:\n",
    "                    most_disc = (word, 'spam', prob_in_spam)\n",
    "                \n",
    "                score_ham += np.log(prob_in_ham)\n",
    "                score_spam += np.log(prob_in_spam)\n",
    "        \n",
    "        most_disc_of_file[file] = most_disc\n",
    "            \n",
    "        num_test_msgs += 1\n",
    "        \n",
    "        if ((score_ham > score_spam) and is_true_ham) or ((score_ham < score_spam) and not is_true_ham):\n",
    "            corrects += 1\n",
    "\n",
    "print(\"The accuracy on the test set is: \" + str(corrects  * 1.0 / num_test_msgs))\n",
    "\n",
    "with open('out/most_disc_of_file.txt', mode='w', encoding=FILE_ENCODING) as f:\n",
    "    for key, value in most_disc_of_file.items():\n",
    "        f.write(key + ': (' + value[0] + ', ' + value[1] + ', ' + str(value[2]) + ')\\n')"
   ]
  },
  {
   "cell_type": "markdown",
   "metadata": {},
   "source": [
    "Finally, we clean all temporary files."
   ]
  },
  {
   "cell_type": "code",
   "execution_count": 8,
   "metadata": {
    "collapsed": false
   },
   "outputs": [],
   "source": [
    "import shutil\n",
    "\n",
    "shutil.rmtree(WORKDIR)"
   ]
  },
  {
   "cell_type": "markdown",
   "metadata": {},
   "source": [
    "# Question 3"
   ]
  },
  {
   "cell_type": "markdown",
   "metadata": {},
   "source": [
    "#### Work on the same dataset as the above problem."
   ]
  },
  {
   "cell_type": "markdown",
   "metadata": {},
   "source": [
    "- **Implement the binary logistic regression algorithm that we discussed in the class. You may use any optimizer of your choice including optimization modules from $ \\displaystyle{scipy} $.**\n",
    " - **Report accuracy on test set.**\n",
    " - **How do you account for different prior probabilities for spam and ham?**\n",
    " - **What are the most discriminative words as per the logistic regression classifer?**\n",
    "\n",
    "- **Implement the Bayesian logistic regression algorithm that we discussed in the class.**\n",
    " - **Report accuracy on test set.**\n",
    " - **How does the accuracy change when the strength of the prior changes?**\n",
    "\n",
    "#### Comment on the differences and similarities between the three classifers that you implemented to solve the spam detection problem (naive bayes, binary logistic regression and bayesian logistic regression)?"
   ]
  },
  {
   "cell_type": "markdown",
   "metadata": {},
   "source": [
    "### binary logistic regression algorithm"
   ]
  },
  {
   "cell_type": "code",
   "execution_count": null,
   "metadata": {
    "collapsed": true
   },
   "outputs": [],
   "source": []
  }
 ],
 "metadata": {
  "kernelspec": {
   "display_name": "Python 3",
   "language": "python",
   "name": "python3"
  },
  "language_info": {
   "codemirror_mode": {
    "name": "ipython",
    "version": 3
   },
   "file_extension": ".py",
   "mimetype": "text/x-python",
   "name": "python",
   "nbconvert_exporter": "python",
   "pygments_lexer": "ipython3",
   "version": "3.5.2"
  }
 },
 "nbformat": 4,
 "nbformat_minor": 1
}
